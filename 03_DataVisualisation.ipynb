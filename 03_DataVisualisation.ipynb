{
 "cells": [
  {
   "cell_type": "markdown",
   "metadata": {
    "hideCode": false,
    "hidePrompt": false,
    "slideshow": {
     "slide_type": "slide"
    }
   },
   "source": [
    "<b> \n",
    "    <font size=\"7\">\n",
    "        Computational Finance and FinTech <br><br>\n",
    "        M.Sc. International Finance\n",
    "    </font>\n",
    "</b>\n",
    "<br><br>\n",
    "<img src=\"pics/HWR.png\" width=400px>\n",
    "<br><br>\n",
    "<b>\n",
    "    <font size=\"5\"> \n",
    "        Prof. Dr. Natalie Packham <br>\n",
    "        Berlin School of Economics and Law <br>\n",
    "        Summer Term 2025\n",
    "    </font>\n",
    "</b>"
   ]
  },
  {
   "cell_type": "markdown",
   "metadata": {
    "slideshow": {
     "slide_type": "slide"
    }
   },
   "source": [
    "<h1>Table of Contents<span class=\"tocSkip\"></span></h1>\n",
    "<div class=\"toc\"><ul class=\"toc-item\"><li><span><a href=\"#Data-Visualisation\" data-toc-modified-id=\"Data-Visualisation-3\"><span class=\"toc-item-num\">3&nbsp;&nbsp;</span>Data Visualisation</a></span><ul class=\"toc-item\"><li><span><a href=\"#Static-2D-Plotting\" data-toc-modified-id=\"Static-2D-Plotting-3.1\"><span class=\"toc-item-num\">3.1&nbsp;&nbsp;</span>Static 2D Plotting</a></span></li><li><span><a href=\"#3D-plotting\" data-toc-modified-id=\"3D-plotting-3.2\"><span class=\"toc-item-num\">3.2&nbsp;&nbsp;</span>3D plotting</a></span></li></ul></li></ul></div>"
   ]
  },
  {
   "cell_type": "markdown",
   "metadata": {
    "slideshow": {
     "slide_type": "slide"
    }
   },
   "source": [
    "# Data Visualisation"
   ]
  },
  {
   "cell_type": "markdown",
   "metadata": {
    "slideshow": {
     "slide_type": "subslide"
    }
   },
   "source": [
    "* Further reading: __Py4Fi, Chapter 7__\n",
    "* We look at the [`matplotlib`](http://www.matplotlib.org) plotting libraries. \n",
    "* Interactive 2D plotting is available with [`plotly`](http://plot.ly).  \n",
    "* More information on `plotly` and some introductory examples can be found in the __Python for Finance__ book."
   ]
  },
  {
   "cell_type": "markdown",
   "metadata": {
    "slideshow": {
     "slide_type": "slide"
    }
   },
   "source": [
    "## Static 2D Plotting\n",
    "\n",
    "* Some standard imports and customatisations: "
   ]
  },
  {
   "cell_type": "code",
   "execution_count": null,
   "metadata": {},
   "outputs": [],
   "source": [
    "import numpy as np\n",
    "import pandas as pd\n",
    "import matplotlib.pyplot as plt\n",
    "import seaborn as sns"
   ]
  },
  {
   "cell_type": "code",
   "execution_count": null,
   "metadata": {},
   "outputs": [],
   "source": [
    "mpl.__version__  # the version of matplotlib"
   ]
  },
  {
   "cell_type": "markdown",
   "metadata": {
    "slideshow": {
     "slide_type": "subslide"
    }
   },
   "source": [
    "### Simple plotting\n",
    "* The standard (and powerful) plotting method is `plt.plot()`.\n",
    "* It takes as basic argument lists or arrays of $x$ values and $y$ values"
   ]
  },
  {
   "cell_type": "code",
   "execution_count": null,
   "metadata": {},
   "outputs": [],
   "source": [
    "import numpy as np\n",
    "np.random.seed(1000)\n",
    "y=np.random.standard_normal(20) # draw some random numbers\n",
    "x=np.arange(len(y)) # fix the x axis\n",
    "plt.plot(x,y); # plot y against x"
   ]
  },
  {
   "cell_type": "markdown",
   "metadata": {
    "slideshow": {
     "slide_type": "subslide"
    }
   },
   "source": [
    "### Simple plotting\n",
    "* A number of functions are available to customise the plot: "
   ]
  },
  {
   "cell_type": "code",
   "execution_count": null,
   "metadata": {},
   "outputs": [],
   "source": [
    "plt.plot(y.cumsum())\n",
    "plt.grid(False) # "
   ]
  },
  {
   "cell_type": "code",
   "execution_count": null,
   "metadata": {},
   "outputs": [],
   "source": [
    "plt.plot(y.cumsum())\n",
    "plt.grid(False)\n",
    "plt.axis('equal');"
   ]
  },
  {
   "cell_type": "markdown",
   "metadata": {
    "slideshow": {
     "slide_type": "subslide"
    }
   },
   "source": [
    "### Simple plotting\n",
    "* Options for `plt.axis()`:\n",
    "\n",
    "![Options for plt.axis](pics/plt_axis.png)\n",
    "\n",
    "\n",
    "<div align=\"right\" style=\"font-size:14px\">Source: Python for Finance, 2nd ed.</div>"
   ]
  },
  {
   "cell_type": "markdown",
   "metadata": {
    "slideshow": {
     "slide_type": "subslide"
    }
   },
   "source": [
    "### Simple plotting\n",
    "* Further customisations:"
   ]
  },
  {
   "cell_type": "code",
   "execution_count": null,
   "metadata": {},
   "outputs": [],
   "source": [
    "plt.figure(figsize=(8, 5))  # increase size of figure\n",
    "plt.plot(y.cumsum(), 'b', lw=1.5)  # plot data in blue with a line width of 1.5\n",
    "plt.plot(y.cumsum(), 'ro')  # plot the data points as red dots\n",
    "plt.xlabel('index')  # label of x-axis\n",
    "plt.ylabel('value')  # label of y-axis\n",
    "plt.title('A Simple Plot');  # plot title"
   ]
  },
  {
   "cell_type": "markdown",
   "metadata": {
    "slideshow": {
     "slide_type": "subslide"
    }
   },
   "source": [
    "### Simple plotting\n",
    "* Standard colour abbreviations:\n",
    "\n",
    "Character | Colour\n",
    "----------| -----------\n",
    "b         | blue\n",
    "g         | green\n",
    "r         | red\n",
    "c         | cyan\n",
    "m         | magenta\n",
    "y         | yellow\n",
    "k         | black\n",
    "w         | white"
   ]
  },
  {
   "cell_type": "markdown",
   "metadata": {
    "slideshow": {
     "slide_type": "subslide"
    }
   },
   "source": [
    "### Simple plotting\n",
    "* Line styles:\n",
    "\n",
    "Character | Colour\n",
    "----------| -----------\n",
    "`'-'`     | solid line\n",
    "`'--'`    | dashed line\n",
    "`'-.`     | dash-dot line \n",
    "`':'`     | dotted line"
   ]
  },
  {
   "cell_type": "markdown",
   "metadata": {
    "slideshow": {
     "slide_type": "subslide"
    }
   },
   "source": [
    "### Simple plotting\n",
    "* Some marker styles:\n",
    "\n",
    "Character | Colour\n",
    "----------| -----------\n",
    "`'.'`     | point \n",
    "`','`     | pixel \n",
    "`'o'`     | circle  \n",
    "`'v'`     | triangle down \n",
    "`'^'`     | triangle up \n",
    "`'<'`     | triangle left\n",
    "`'>'`     | triangle right\n",
    "`'*'`     | star \n",
    "`'h'`     | hexagon\n",
    "\n",
    "* More marker styles are found [here](https://matplotlib.org/api/_as_gen/matplotlib.pyplot.plot.html) and [here](https://matplotlib.org/api/markers_api.html). "
   ]
  },
  {
   "cell_type": "markdown",
   "metadata": {
    "slideshow": {
     "slide_type": "subslide"
    }
   },
   "source": [
    "### Plotting several data sets\n",
    "* If the data are arranged in a multi-dimensional array, then `plot()` will automatically plot the columns separately: "
   ]
  },
  {
   "cell_type": "code",
   "execution_count": null,
   "metadata": {},
   "outputs": [],
   "source": [
    "y = np.random.standard_normal((20, 2)).cumsum(axis=0)\n",
    "plt.figure(figsize=(6, 3))\n",
    "plt.plot(y[:, 0], lw=1.5, label='1st')  # define a label to be used in the legend\n",
    "plt.plot(y[:, 1], lw=1.5, label='2nd')  \n",
    "plt.plot(y, 'ro')\n",
    "plt.legend(loc=0)  # add a legend, consult the legend help to find out about locations\n",
    "plt.xlabel('index')\n",
    "plt.ylabel('value')\n",
    "plt.title('A Simple Plot');"
   ]
  },
  {
   "cell_type": "markdown",
   "metadata": {
    "slideshow": {
     "slide_type": "subslide"
    }
   },
   "source": [
    "### Subplots\n",
    "* `plt.subplots()` is a powerful method to either combine several plots with separate axes or to produce separate plots. \n",
    "* In the first example, the plots overlay each other:"
   ]
  },
  {
   "cell_type": "markdown",
   "metadata": {
    "slideshow": {
     "slide_type": "subslide"
    }
   },
   "source": [
    "### Subplots"
   ]
  },
  {
   "cell_type": "code",
   "execution_count": null,
   "metadata": {},
   "outputs": [],
   "source": [
    "y[:,0] = y[:,0] * 100"
   ]
  },
  {
   "cell_type": "code",
   "execution_count": null,
   "metadata": {},
   "outputs": [],
   "source": [
    "fig, ax1 = plt.subplots()  # defines  figure and axis objects\n",
    "plt.plot(y[:, 0], 'b', lw=1.5, label='1st')\n",
    "plt.plot(y[:, 0], 'ro')\n",
    "plt.legend(loc=8)\n",
    "plt.xlabel('index')\n",
    "plt.ylabel('value 1st')\n",
    "plt.title('A Simple Plot')\n",
    "ax2 = ax1.twinx()  # create a second y-axis object\n",
    "plt.plot(y[:, 1], 'g', lw=1.5, label='2nd')\n",
    "plt.plot(y[:, 1], 'ro')\n",
    "plt.legend(loc=0)\n",
    "plt.ylabel('value 2nd');"
   ]
  },
  {
   "cell_type": "markdown",
   "metadata": {
    "slideshow": {
     "slide_type": "subslide"
    }
   },
   "source": [
    "### Subplots\n",
    "* The second example creates two separate plots.\n",
    "* The main argument to `subplot()` is a 3-digit integer describing the position of the subplot. \n",
    "* The integers refer to `nrows`, `ncols` and `index`, where `index` starts at 1 in the upper left corner and increases to the right."
   ]
  },
  {
   "cell_type": "markdown",
   "metadata": {
    "slideshow": {
     "slide_type": "subslide"
    }
   },
   "source": [
    "### Subplots"
   ]
  },
  {
   "cell_type": "code",
   "execution_count": null,
   "metadata": {},
   "outputs": [],
   "source": [
    "plt.figure(figsize=(6, 3))\n",
    "plt.subplot(211)  # defines the upper plot in a figure with two rows and one column\n",
    "plt.plot(y[:, 0], lw=1.5, label='1st')\n",
    "plt.plot(y[:, 0], 'ro')\n",
    "plt.legend(loc=0)\n",
    "plt.ylabel('value')\n",
    "plt.title('A Simple Plot')\n",
    "plt.subplot(212)  # defines the lower plot\n",
    "plt.plot(y[:, 1], 'g', lw=1.5, label='2nd')\n",
    "plt.plot(y[:, 1], 'ro')\n",
    "plt.legend(loc=0)\n",
    "plt.xlabel('index')\n",
    "plt.ylabel('value');"
   ]
  },
  {
   "cell_type": "markdown",
   "metadata": {
    "slideshow": {
     "slide_type": "subslide"
    }
   },
   "source": [
    "### Other plot styles\n",
    "* The following examples introduce bar charts, scatter plots, histograms and boxplots"
   ]
  },
  {
   "cell_type": "markdown",
   "metadata": {
    "slideshow": {
     "slide_type": "subslide"
    }
   },
   "source": [
    "### Bar chart"
   ]
  },
  {
   "cell_type": "code",
   "execution_count": null,
   "metadata": {},
   "outputs": [],
   "source": [
    "plt.bar(np.arange(len(y)), abs(y[:, 1]), width=0.5,\n",
    "        color='g')\n",
    "plt.xlabel('index')\n",
    "plt.title('Bar chart');"
   ]
  },
  {
   "cell_type": "markdown",
   "metadata": {
    "slideshow": {
     "slide_type": "subslide"
    }
   },
   "source": [
    "### Scatter plot"
   ]
  },
  {
   "cell_type": "code",
   "execution_count": null,
   "metadata": {},
   "outputs": [],
   "source": [
    "y = np.random.standard_normal((1000, 2))  "
   ]
  },
  {
   "cell_type": "code",
   "execution_count": null,
   "metadata": {},
   "outputs": [],
   "source": [
    "plt.scatter(y[:, 0], y[:, 1], marker='o')  \n",
    "plt.xlabel('1st')\n",
    "plt.ylabel('2nd')\n",
    "plt.title('Scatter Plot');"
   ]
  },
  {
   "cell_type": "markdown",
   "metadata": {
    "slideshow": {
     "slide_type": "subslide"
    }
   },
   "source": [
    "### Scatter plot\n",
    "* Adding a third dimension via a colour map:"
   ]
  },
  {
   "cell_type": "code",
   "execution_count": null,
   "metadata": {},
   "outputs": [],
   "source": [
    "c = np.random.randint(0, 10, len(y))"
   ]
  },
  {
   "cell_type": "code",
   "execution_count": null,
   "metadata": {},
   "outputs": [],
   "source": [
    "plt.scatter(y[:, 0], y[:, 1],\n",
    "            c=c,  \n",
    "            cmap='coolwarm',  \n",
    "            marker='o')  \n",
    "plt.colorbar()\n",
    "plt.xlabel('1st')\n",
    "plt.ylabel('2nd')\n",
    "plt.title('Scatter Plot');"
   ]
  },
  {
   "cell_type": "markdown",
   "metadata": {
    "slideshow": {
     "slide_type": "subslide"
    }
   },
   "source": [
    "### Histogram"
   ]
  },
  {
   "cell_type": "code",
   "execution_count": null,
   "metadata": {},
   "outputs": [],
   "source": [
    "plt.hist(y, label=['1st', '2nd'], bins=25)  \n",
    "plt.legend(loc=0)\n",
    "plt.xlabel('value')\n",
    "plt.ylabel('frequency')\n",
    "plt.title('Histogram');"
   ]
  },
  {
   "cell_type": "markdown",
   "metadata": {
    "slideshow": {
     "slide_type": "subslide"
    }
   },
   "source": [
    "### Histogram\n",
    "* Parameters for `plt.hist()`:\n",
    "\n",
    "![Parameters for plt.hist](pics/plt_hist_1.png)\n",
    "\n",
    "![Parameters for plt.hist](pics/plt_hist_2.png)\n",
    "\n",
    "\n",
    "<div align=\"right\" style=\"font-size:14px\">Source: Python for Finance, 2nd ed.</div>"
   ]
  },
  {
   "cell_type": "markdown",
   "metadata": {
    "slideshow": {
     "slide_type": "subslide"
    }
   },
   "source": [
    "### Histogram\n",
    "* A stacked histogram:"
   ]
  },
  {
   "cell_type": "code",
   "execution_count": null,
   "metadata": {},
   "outputs": [],
   "source": [
    "plt.hist(y, label=['1st', '2nd'], color=['b', 'g'],\n",
    "            stacked=True, bins=20, alpha=0.5)\n",
    "plt.legend(loc=0)\n",
    "plt.xlabel('value')\n",
    "plt.ylabel('frequency')\n",
    "plt.title('Histogram');"
   ]
  },
  {
   "cell_type": "markdown",
   "metadata": {
    "slideshow": {
     "slide_type": "subslide"
    }
   },
   "source": [
    "### Boxplot"
   ]
  },
  {
   "cell_type": "code",
   "execution_count": null,
   "metadata": {},
   "outputs": [],
   "source": [
    "fig, ax = plt.subplots()\n",
    "plt.boxplot(y)  \n",
    "plt.setp(ax, xticklabels=['1st', '2nd'])  \n",
    "plt.xlabel('data set')\n",
    "plt.ylabel('value')\n",
    "plt.title('Boxplot');"
   ]
  },
  {
   "cell_type": "markdown",
   "metadata": {
    "slideshow": {
     "slide_type": "subslide"
    }
   },
   "source": [
    "### Further examples\n",
    "* Many more examples are found in the `matploblib` [gallery](https://matplotlib.org//gallery.html)."
   ]
  },
  {
   "cell_type": "markdown",
   "metadata": {
    "slideshow": {
     "slide_type": "slide"
    }
   },
   "source": [
    "## 3D plotting\n",
    "\n",
    "* One application of 3D plots in finance are __volatility surfaces__. "
   ]
  },
  {
   "cell_type": "markdown",
   "metadata": {
    "slideshow": {
     "slide_type": "subslide"
    }
   },
   "source": [
    "### The volatility surface\n",
    "\n",
    "* In the examples below we plot __volatility surfaces__. \n",
    "* These refer to prices of call and put option.\n",
    "* Payoff of a call option: $\\max(S_T-K,0)$ and\n",
    "* payoff of a put option: $\\max(K-S_T,0)$, where \n",
    "    * $S_T$ is the stock or index price at maturity $T$ of the option and \n",
    "    * $K$ is the strike price. \n",
    "* For some financial instruments, such as the S&P 500 or the DAX indices, liquid markets for simple call and put options exist. \n",
    "* Their prices are determined by supply and demand, rather than from trading models."
   ]
  },
  {
   "cell_type": "markdown",
   "metadata": {
    "slideshow": {
     "slide_type": "subslide"
    }
   },
   "source": [
    "### The vol surface\n",
    "\n",
    "* For these options, traders prefer to look at their __volatility__ rather than their price, as this makes the market for options with different maturities and strike prices more easily comparable: \n",
    "     * Price levels depend strongly on strike and time-to-maturity, even if the market considers the risk levels of options to be the same. \n",
    "     * (Annualised) volatility is a measure that eliminates distortions from strike levels and time-to-maturity. \n",
    "* Since there is a one-to-one relationship between an option price and the volatility one would have to plug into the Black-Scholes formula to obtain that price, traders prefer to look at this volatility, called __implied volatility__. \n",
    "* A volatility surface shows implied volatility as a function of time-to-maturity and option strike. "
   ]
  },
  {
   "cell_type": "markdown",
   "metadata": {
    "slideshow": {
     "slide_type": "subslide"
    }
   },
   "source": [
    "### Plotting the vol surface\n",
    "* We consider the following parameters: \n",
    "    * strike values between 50 and 150,\n",
    "    * time-to-maturity values between 0.5 and 2.5 years.\n",
    "* The function `nd.meshgrid()` creates a two-dimensional `ndarray` object from the two one-dimensional `ndarray` coordinate systems:"
   ]
  },
  {
   "cell_type": "code",
   "execution_count": null,
   "metadata": {},
   "outputs": [],
   "source": [
    "strike = np.linspace(50, 150, 24)  "
   ]
  },
  {
   "cell_type": "code",
   "execution_count": null,
   "metadata": {},
   "outputs": [],
   "source": [
    "ttm = np.linspace(0.5, 2.5, 24)  "
   ]
  },
  {
   "cell_type": "code",
   "execution_count": null,
   "metadata": {},
   "outputs": [],
   "source": [
    "strike, ttm = np.meshgrid(strike, ttm)  "
   ]
  },
  {
   "cell_type": "code",
   "execution_count": null,
   "metadata": {},
   "outputs": [],
   "source": [
    "strike.ndim, strike.size"
   ]
  },
  {
   "cell_type": "code",
   "execution_count": null,
   "metadata": {},
   "outputs": [],
   "source": [
    "ttm.ndim, ttm.size"
   ]
  },
  {
   "cell_type": "markdown",
   "metadata": {
    "slideshow": {
     "slide_type": "subslide"
    }
   },
   "source": [
    "### Plotting the vol surface"
   ]
  },
  {
   "cell_type": "code",
   "execution_count": null,
   "metadata": {},
   "outputs": [],
   "source": [
    "iv = (strike - 100) ** 2 / (100 * strike) / ttm  "
   ]
  },
  {
   "cell_type": "code",
   "execution_count": null,
   "metadata": {},
   "outputs": [],
   "source": [
    "iv.ndim, iv.size"
   ]
  },
  {
   "cell_type": "code",
   "execution_count": null,
   "metadata": {},
   "outputs": [],
   "source": [
    "iv[:5, :3]  "
   ]
  },
  {
   "cell_type": "markdown",
   "metadata": {
    "slideshow": {
     "slide_type": "subslide"
    }
   },
   "source": [
    "### Plotting the vol surface"
   ]
  },
  {
   "cell_type": "code",
   "execution_count": null,
   "metadata": {},
   "outputs": [],
   "source": [
    "from mpl_toolkits.mplot3d import Axes3D  \n",
    "fig = plt.figure(figsize=(8, 5)) \n",
    "ax = fig.add_subplot(111, projection='3d') # set up canvas for 3D plotting\n",
    "#ax = fig.gca(projection='3d')   # old code from Python 3.7\n",
    "surf = ax.plot_surface(strike, ttm, iv, rstride=3, cstride=3,\n",
    "                       cmap=plt.cm.coolwarm, linewidth=0.5,\n",
    "                       antialiased=True)  # creates 3D plot\n",
    "ax.set_xlabel('strike')  \n",
    "ax.set_ylabel('time-to-maturity')  \n",
    "ax.set_zlabel('implied volatility')  \n",
    "fig.colorbar(surf, shrink=0.5, aspect=5);  "
   ]
  },
  {
   "cell_type": "markdown",
   "metadata": {
    "slideshow": {
     "slide_type": "subslide"
    }
   },
   "source": [
    "### Parameters for plot_surface()\n",
    "\n",
    "![Parameters for plot_surface()](pics/plot_surface_1.png)\n",
    "![Parameters for plot_surface()](pics/plot_surface_2.png)\n",
    "\n",
    "\n",
    "<div align=\"right\" style=\"font-size:14px\">Source: Python for Finance, 2nd ed.</div>"
   ]
  },
  {
   "cell_type": "markdown",
   "metadata": {
    "slideshow": {
     "slide_type": "subslide"
    }
   },
   "source": [
    "### Plotting the vol surface\n",
    "\n",
    "* Changing the style and with a different viewing angle:"
   ]
  },
  {
   "cell_type": "code",
   "execution_count": null,
   "metadata": {},
   "outputs": [],
   "source": [
    "fig = plt.figure(figsize=(8, 5))\n",
    "ax = fig.add_subplot(111, projection='3d')\n",
    "ax.view_init(30, 60)  \n",
    "ax.scatter(strike, ttm, iv, zdir='z', s=25,\n",
    "           c='b', marker='^')  \n",
    "ax.set_xlabel('strike')\n",
    "ax.set_ylabel('time-to-maturity')\n",
    "ax.set_zlabel('implied volatility');"
   ]
  },
  {
   "cell_type": "markdown",
   "metadata": {
    "slideshow": {
     "slide_type": "subslide"
    }
   },
   "source": [
    "### Further resources\n",
    "\n",
    "* [Matplotlib pyplot tutorial](https://matplotlib.org/users/pyplot_tutorial.html)\n",
    "* [Matplotlib mplot3d tutorial](https://matplotlib.org/mpl_toolkits/mplot3d/tutorial.html)"
   ]
  }
 ],
 "metadata": {
  "celltoolbar": "Slideshow",
  "hide_code_all_hidden": true,
  "kernelspec": {
   "display_name": "Python 3 (ipykernel)",
   "language": "python",
   "name": "python3"
  },
  "language_info": {
   "codemirror_mode": {
    "name": "ipython",
    "version": 3
   },
   "file_extension": ".py",
   "mimetype": "text/x-python",
   "name": "python",
   "nbconvert_exporter": "python",
   "pygments_lexer": "ipython3",
   "version": "3.11.4"
  },
  "latex_metadata": {
   "author": "Prof.\\ Dr.\\ Natalie Packham\\\\ Berlin School of Economics and Law\\\\ Computational Finance and FinTech\\\\ Summer Term 2020",
   "bib": "notebook.bib",
   "title": "Data Visualisation"
  },
  "livereveal": {
   "slideNumber": "c"
  },
  "toc": {
   "base_numbering": "3",
   "nav_menu": {},
   "number_sections": true,
   "sideBar": true,
   "skip_h1_title": false,
   "title_cell": "Table of Contents",
   "title_sidebar": "Contents",
   "toc_cell": false,
   "toc_position": {
    "height": "calc(100% - 180px)",
    "left": "10px",
    "top": "150px",
    "width": "288px"
   },
   "toc_section_display": true,
   "toc_window_display": false
  }
 },
 "nbformat": 4,
 "nbformat_minor": 4
}
