{
 "cells": [
  {
   "cell_type": "markdown",
   "metadata": {
    "hideCode": false,
    "hidePrompt": false,
    "slideshow": {
     "slide_type": "slide"
    }
   },
   "source": [
    "<b> \n",
    "    <font size=\"7\">\n",
    "        Computational Finance and FinTech <br><br>\n",
    "        M.Sc. International Finance\n",
    "    </font>\n",
    "</b>\n",
    "<br><br>\n",
    "<img src=\"pics/HWR.png\" width=400px>\n",
    "<br><br>\n",
    "<b>\n",
    "    <font size=\"5\"> \n",
    "        Prof. Dr. Natalie Packham <br>\n",
    "        Berlin School of Economics and Law <br>\n",
    "        Summer Term 2025\n",
    "    </font>\n",
    "</b>"
   ]
  },
  {
   "cell_type": "markdown",
   "metadata": {
    "hideCode": false,
    "hideOutput": false,
    "hidePrompt": false,
    "slideshow": {
     "slide_type": "slide"
    }
   },
   "source": [
    "<h1>Table of Contents<span class=\"tocSkip\"></span></h1>\n",
    "<div class=\"toc\"><ul class=\"toc-item\"><li><span><a href=\"#Option-Pricing\" data-toc-modified-id=\"Option-Pricing-6\"><span class=\"toc-item-num\">6&nbsp;&nbsp;</span>Option Pricing</a></span><ul class=\"toc-item\"><li><span><a href=\"#Call-and-put-options\" data-toc-modified-id=\"Call-and-put-options-6.1\"><span class=\"toc-item-num\">6.1&nbsp;&nbsp;</span>Call and put options</a></span></li><li><span><a href=\"#The-one-period-model\" data-toc-modified-id=\"The-one-period-model-6.2\"><span class=\"toc-item-num\">6.2&nbsp;&nbsp;</span>The one-period model</a></span></li><li><span><a href=\"#The-multi-period-model\" data-toc-modified-id=\"The-multi-period-model-6.3\"><span class=\"toc-item-num\">6.3&nbsp;&nbsp;</span>The multi-period model</a></span></li><li><span><a href=\"#The-Cox-Ross-Rubinstein-model\" data-toc-modified-id=\"The-Cox-Ross-Rubinstein-model-6.4\"><span class=\"toc-item-num\">6.4&nbsp;&nbsp;</span>The Cox-Ross-Rubinstein model</a></span></li><li><span><a href=\"#Towards-a-continuous-time-model:-Brownian-motion\" data-toc-modified-id=\"Towards-a-continuous-time-model:-Brownian-motion-6.5\"><span class=\"toc-item-num\">6.5&nbsp;&nbsp;</span>Towards a continuous-time model: Brownian motion</a></span></li><li><span><a href=\"#The-Black-Scholes(-Merton)-model\" data-toc-modified-id=\"The-Black-Scholes(-Merton)-model-6.6\"><span class=\"toc-item-num\">6.6&nbsp;&nbsp;</span>The Black-Scholes(-Merton) model</a></span></li><li><span><a href=\"#The-Black-Scholes-formula\" data-toc-modified-id=\"The-Black-Scholes-formula-6.7\"><span class=\"toc-item-num\">6.7&nbsp;&nbsp;</span>The Black-Scholes formula</a></span></li></ul></li></ul></div>"
   ]
  },
  {
   "cell_type": "code",
   "execution_count": null,
   "metadata": {
    "slideshow": {
     "slide_type": "slide"
    }
   },
   "outputs": [],
   "source": [
    "import math\n",
    "import numpy as np\n",
    "import seaborn as sns\n",
    "sns.set()\n",
    "import matplotlib.pyplot as plt"
   ]
  },
  {
   "cell_type": "code",
   "execution_count": null,
   "metadata": {},
   "outputs": [],
   "source": [
    "# function to draw one-period binomial trees\n",
    "def graphTree(labels,arrow_labels,extra_labels=[]): \n",
    "    # Define the positions for the nodes\n",
    "    x = [0, 1, 1]\n",
    "    y = [0, 1, -1]\n",
    "    alignment=['right', 'left', 'left']\n",
    "\n",
    "    # Create the plot\n",
    "    fig, ax = plt.subplots()\n",
    "    ax.set_xlim(-0.1, 1.1)\n",
    "    ax.set_ylim(-1.5, 1.5)\n",
    "    plt.xlim(-0.5, 1.6)\n",
    "    plt.gca().set_aspect(aspect=0.4)\n",
    "\n",
    "    # Annotate the nodes\n",
    "    for i, label in enumerate(labels):\n",
    "        ax.text(x[i], y[i], label, fontsize=12, ha=alignment[i], color='mediumblue')\n",
    "        if(len(extra_labels)>0):\n",
    "            ax.text(x[i], y[i] - 0.2, extra_labels[i], fontsize=12, ha=alignment[i], color='darkred')\n",
    "    \n",
    "    # Draw arrows\n",
    "    arrowprops = dict(facecolor='black', shrink=0.05, width=2, headwidth=10)\n",
    "\n",
    "    ax.annotate('', xy=(1, 1), xytext=(0, 0), arrowprops=arrowprops)\n",
    "    ax.annotate('', xy=(1, -1), xytext=(0, 0), arrowprops=arrowprops)\n",
    "\n",
    "    # Annotate the arrows\n",
    "    ax.text(0.5, 0.7, arrow_labels[0], fontsize=12, ha='left')\n",
    "    ax.text(0.5, -0.4, arrow_labels[1], fontsize=12, ha='left')\n",
    "\n",
    "    # Set the x-axis\n",
    "    ax.set_xticks([0, 1])\n",
    "    ax.set_xticklabels(['0', '1'])\n",
    "\n",
    "    # Hide y-axis\n",
    "    ax.yaxis.set_visible(False)\n",
    "\n",
    "    # Add grid for better visualization\n",
    "    ax.grid(True, linestyle='--')\n",
    "\n",
    "    # Add title\n",
    "    plt.title('One-Period Binomial Tree')\n",
    "\n",
    "    # Show the plot\n",
    "    plt.show()\n",
    "    \n",
    "#graphTree([r'$S_0 = 100$', r'$S_1 = s \\cdot 120$', r'$S_1 = s \\cdot 80$'],[r'$0.6$', r'$0.4$'],['Option value=?', 'Option payoff: 15', 'Option payoff: 0'])"
   ]
  },
  {
   "cell_type": "markdown",
   "metadata": {
    "hideCode": false,
    "hidePrompt": false,
    "slideshow": {
     "slide_type": "slide"
    }
   },
   "source": [
    "# Option Pricing"
   ]
  },
  {
   "cell_type": "markdown",
   "metadata": {
    "hideCode": false,
    "hidePrompt": false,
    "slideshow": {
     "slide_type": "subslide"
    }
   },
   "source": [
    "### Option Pricing\n",
    "\n",
    "* This session is _not_ directly related to a chapter in __Py4Fi__.\n",
    "* An __option__, also called __contingent claim__, is a financial derivative whose payoff is a (non-linear) function of an underlying asset's value.\n",
    "* The most important and liquidly traded contingent claims are __call__ and __put options__. \n",
    "* Option prices are determined by assuming that markets are free of __arbitrage__.\n",
    "* We cover standard option pricing techniques: the __binomial tree model__ and the __Black-Scholes(-Merton) model__."
   ]
  },
  {
   "cell_type": "markdown",
   "metadata": {
    "hideCode": false,
    "hidePrompt": false,
    "slideshow": {
     "slide_type": "subslide"
    }
   },
   "source": [
    "## Call and put options\n",
    "\n",
    "* In the following, $(S_t)_{t\\geq 0}$ denotes the price process of the underlying asset. \n",
    "* A __Euopean call option__ with __exercise / strike price__ $K$ and maturity $T$ has payoff $X=\\max(S_T-K,0)=(S_T-K)^+$.\n",
    "* The holder of the option has the right, but not the obligation, to buy the stock at time $T$ at price $K$.\n",
    "* A __European put option__ with __exercise / strike price__ $K$ and maturity $T$ has payoff $X=\\max(K-S_T,0)=(K-S_T)^+$."
   ]
  },
  {
   "cell_type": "code",
   "execution_count": null,
   "metadata": {
    "slideshow": {
     "slide_type": "subslide"
    }
   },
   "outputs": [],
   "source": [
    "x = np.linspace(0,200)\n",
    "k=100; # strike price\n",
    "plt.figure(figsize=(12, 3))\n",
    "plt.subplot(121)\n",
    "plt.plot(x,(x>k)*(x-k), lw=1.5)\n",
    "plt.xlabel('$S_T$')\n",
    "plt.title('call option payoff')\n",
    "plt.subplot(122)\n",
    "plt.plot(x, (x<k)*(k-x), lw=1.5)\n",
    "plt.xlabel('$S_T$')\n",
    "plt.title('put option payoff');"
   ]
  },
  {
   "cell_type": "markdown",
   "metadata": {
    "slideshow": {
     "slide_type": "subslide"
    }
   },
   "source": [
    "### Option valuation\n",
    "* At first sight, it might be seem impossible to determine a price for an option. \n",
    "* It turns out that under some general conditions and assumptions, unique prices for contingent claims can be determined!\n",
    "* The main assumption is that markets are __free of arbitrage__.\n",
    "* A powerful result, under some further assumptions, then shows that the payoff of a contingent claim can be __replicated__ with a dynamic trading strategy in a bond and the underlying asset. \n",
    "* A rigorous derivation of this result is beyond the scope of the course, but we will sketch the main ingredients. \n",
    "\n",
    "Discuss: Is the assumption of __absence of arbitrage__ plausible in financial markets? \n"
   ]
  },
  {
   "cell_type": "markdown",
   "metadata": {
    "slideshow": {
     "slide_type": "subslide"
    }
   },
   "source": [
    "### Option valuation - Roadmap\n",
    "* We begin by setting up a model for a financial market consisting of a __riskless asset__, such as a __bond__ or a __money market account__ and a __risky asset__ e.g. a share of __stock__.\n",
    "* The bond / money market account accrues at a constant deterministic interest rate, the __risk-free rate__. \n",
    "* The stock price process is modelled as a __stochastic process__, where, at every point in time the current price and the price history are known, but future prices are unknown. "
   ]
  },
  {
   "cell_type": "markdown",
   "metadata": {
    "slideshow": {
     "slide_type": "subslide"
    }
   },
   "source": [
    "### Option valuation - Roadmap\n",
    "* First, we consider a __discrete-time model__, where the stock price evolves in a __binomial tree__. \n",
    "* It turns out that the payoffs of contingent claims can be __replicated__ by a dynamic trading strategy in the stock and the bond.\n",
    "* By a no-arbitrage argument, the price of the contingent claim must equal the cost setting up the replicating strategy.  \n",
    "* Taking the time step length $\\Delta t$ to the limit of $0$, yields a __continuous-time model__, the __Black-Scholes(-Merton) model__. \n",
    "* This gives a closed-form solution for call and put option prices, the famous __Black-Scholes formula__. "
   ]
  },
  {
   "cell_type": "markdown",
   "metadata": {
    "slideshow": {
     "slide_type": "slide"
    }
   },
   "source": [
    "## The one-period model \n",
    "* Example: \n",
    "    * Suppose you want to buy a __call option__ on a stock. \n",
    "    * The option matures in one year and has a strike price of 105. \n",
    "    * The current stock price is 100, and it is known that the stock price either increases or decreases by 20% within one year. \n",
    "    * The risk-free interest rate is 5% (discrete compounding).  \n",
    "* Questions:\n",
    "    * What is the __value__ of this option? (Pricing)\n",
    "    * How can you __hedge__ this option? (Hedging)"
   ]
  },
  {
   "cell_type": "markdown",
   "metadata": {
    "slideshow": {
     "slide_type": "subslide"
    }
   },
   "source": [
    "### The one-period model \n",
    "* There are two points in time: $t\\in \\{0,1\\}$\n",
    "* Market consists of bond and stock\n",
    "* Bond price is deterministic: $B_0=1$ and $B_1=1+r$\n",
    "* Stock price $S_t$ is a stochastic process with $S_0=s$ and $S_1=s\\cdot u$ with probability $p_u$ and $S_1=s\\cdot d$ with probability $p_d$. \n",
    "* We also write $S_1=S_0\\cdot Z$ where $Z$ is a random variable taking values in $\\{u,d\\}$. "
   ]
  },
  {
   "cell_type": "code",
   "execution_count": null,
   "metadata": {
    "slideshow": {
     "slide_type": "-"
    }
   },
   "outputs": [],
   "source": [
    "graphTree([r'$S_0 = s$', r'$S_1 = s \\cdot u$', r'$S_1 = s \\cdot d$'],[r'$p_u$', r'$p_d$'])"
   ]
  },
  {
   "cell_type": "markdown",
   "metadata": {
    "slideshow": {
     "slide_type": "subslide"
    }
   },
   "source": [
    "### The one-period model\n",
    "* Assumptions: \n",
    "    * $s, u, d, p_u, p_d$ are known\n",
    "    * $d<u$\n",
    "    * $p_u+p_d=1$\n",
    "    \n",
    "* A __portfolio__ is a vector $(x,y)$, where \n",
    "    * $x$ denotes the number bonds held and \n",
    "    * $y$ denotes the number of stocks held. \n",
    "    "
   ]
  },
  {
   "cell_type": "markdown",
   "metadata": {
    "slideshow": {
     "slide_type": "subslide"
    }
   },
   "source": [
    "### The one-period model\n",
    "* Market assumptions:\n",
    "    * Short positions and arbitrary holdings are allowed ($(x,y)\\in \\mathbb R^2$).\n",
    "    * There are no bid-ask spreads.\n",
    "    * There are no transaction costs.\n",
    "    * The market is completely liquid, i.e., it is always possible to buy and sell unlimited quantities in the market."
   ]
  },
  {
   "cell_type": "markdown",
   "metadata": {
    "slideshow": {
     "slide_type": "subslide"
    }
   },
   "source": [
    "### Portfolios\n",
    "* Value process:\n",
    "$V_t = x B_t + y S_t$, $t\\in 0,1$.\n",
    "* Equivalently:\n",
    "\\begin{align*}\n",
    " V_0&=x + y s\\\\\n",
    " V_1 &= x(1+r) + y S_0\\cdot Z\n",
    " \\end{align*}\n",
    "\n"
   ]
  },
  {
   "cell_type": "markdown",
   "metadata": {
    "slideshow": {
     "slide_type": "subslide"
    }
   },
   "source": [
    "### Arbitrage\n",
    "* An __arbitrage portfolio__ or __arbitrage strategy__ is a portfolio $(x,y)$ with \n",
    "\n",
    " \n",
    "\\begin{align*}\n",
    "V_0&=0\\\\\n",
    "\\mathbb P(V_1\\geq 0)&=1\\\\\n",
    "\\mathbb P(V_1>0)&>0\n",
    "\\end{align*}\n",
    "\n",
    "\n",
    "* In words: An arbitrage opportunity is the possibility of generating at zero cost today a payoff at some time point in the future that is nonnegative with certainty and positive with positive probability.\n"
   ]
  },
  {
   "cell_type": "markdown",
   "metadata": {
    "slideshow": {
     "slide_type": "subslide"
    }
   },
   "source": [
    "### Arbitrage\n",
    "* The one-period model is free of arbitrage if and only if $$d < 1+r < u.$$ \n",
    "* Interpretation: return on stock is not allowed to dominate bond, and vice versa.\n"
   ]
  },
  {
   "cell_type": "markdown",
   "metadata": {
    "slideshow": {
     "slide_type": "subslide"
    }
   },
   "source": [
    "### Example\n",
    "* Consider a market with \n",
    "    * risk-free interest rate $r=5\\%$, \n",
    "    * $S_0=100$, $u=1.2$, $d=0.8$, \n",
    "    * $p_u=0.6$, $p_d=0.4$.\n",
    "* The market is free of arbitrage since $0.8 < 1.05 < 1.2$. \n",
    "\n"
   ]
  },
  {
   "cell_type": "markdown",
   "metadata": {
    "slideshow": {
     "slide_type": "subslide"
    }
   },
   "source": [
    "### Example - Replicating a call option\n",
    "* Now consider a call option with strike price $K=105$: "
   ]
  },
  {
   "cell_type": "code",
   "execution_count": null,
   "metadata": {},
   "outputs": [],
   "source": [
    "graphTree([r'$S_0 = 100$', r'$S_1 = s \\cdot 120$', r'$S_1 = s \\cdot 80$'],[r'$0.6$', r'$0.4$'],\\\n",
    "          ['Option value: ?', 'Option payoff: 15', 'Option payoff: 0'])"
   ]
  },
  {
   "cell_type": "markdown",
   "metadata": {
    "slideshow": {
     "slide_type": "subslide"
    }
   },
   "source": [
    "* We would like to build a portfolio satisfying: \n",
    " \n",
    "\\begin{align*}\n",
    "x (1+r) + y S_0\\cdot u &= 15\\\\\n",
    " x (1+r) + y S_0\\cdot d &= 0\n",
    " \\end{align*}"
   ]
  },
  {
   "cell_type": "markdown",
   "metadata": {
    "slideshow": {
     "slide_type": "subslide"
    }
   },
   "source": [
    "### Example - replicating a call option\n",
    "* Plugging in the numbers for $B_t, S_0\\cdot u$ and $S_0\\cdot d$ gives\n",
    "\n",
    "\n",
    "\\begin{align*}\n",
    "        x \\cdot 1.05 + 120 y &= 15\\\\\n",
    "        x \\cdot 1.05 + \\phantom{1}80 y&=0.\n",
    "      \\end{align*}\n",
    "\n",
    "\n",
    "* The solution to this system of linear equations is\n",
    "\n",
    "\n",
    "\\begin{equation*}\n",
    "       y=\\frac{15}{40} =\\frac{3}{8}=0.375\n",
    "       \\quad\\text{ and }\\quad \n",
    "      x=-\\frac{30}{1.05}=-\\frac{30}{21/20} = -\\frac{200}{7}\n",
    "        =-28.57.\n",
    "      \\end{equation*}\n",
    "\n",
    "      \n",
    "* We have found that the portfolio $(-28.57, 0.375)$ __replicates__ the option payoff, that is, $V_1$ is idential to the option payoff. \n",
    "\n",
    "* The value of the portfolio today is $V_0 = -28.57 + 0.375 \\cdot 100 = 8.93$. \n"
   ]
  },
  {
   "cell_type": "markdown",
   "metadata": {
    "slideshow": {
     "slide_type": "subslide"
    }
   },
   "source": [
    "### Example - replicating a call option\n",
    "* $8.93$ is the __only__ price for the option that is  consistent with the no-arbitrage principle:\n",
    "* If the option could  be traded at a $\\begin{Bmatrix}\n",
    "\\text{higher}\\\\\n",
    "\\text{lower}\n",
    "\\end{Bmatrix}$ price, then one could create a riskless profit by \n",
    "$\\begin{Bmatrix}\n",
    "\\text{selling}\\\\\n",
    "\\text{buying}\n",
    "\\end{Bmatrix}$ the option and \n",
    "$\\begin{Bmatrix}\n",
    "\\text{buying}\\\\\n",
    "\\text{selling}\n",
    "\\end{Bmatrix}$ \n",
    "the replicating portfolio."
   ]
  },
  {
   "cell_type": "code",
   "execution_count": null,
   "metadata": {
    "slideshow": {
     "slide_type": "-"
    }
   },
   "outputs": [],
   "source": [
    "graphTree([r'$S_0 = 100$', r'$S_1 = s \\cdot 120$', r'$S_1 = s \\cdot 80$'],[r'$0.6$', r'$0.4$'],\\\n",
    "          ['Option value: 8.93', 'Option payoff: 15', 'Option payoff: 0'])"
   ]
  },
  {
   "cell_type": "markdown",
   "metadata": {
    "slideshow": {
     "slide_type": "subslide"
    }
   },
   "source": [
    "### Remarks\n",
    "* The portfolio replicating the option payoff is called the __replicating portfolio__.\n",
    "* The option price is called the __no-arbitrage price__ of the option. \n",
    "* Adding an option to the market that trades at its no-arbitrage price implies that the market remains free of arbitrage. \n",
    "* A buyer of the option can __hedge__ the exposure by entering into __minus__ the replicating portfolio.\n",
    "* The probabilities $p_u, p_d$ did not enter into the calculation of the price. \n"
   ]
  },
  {
   "cell_type": "markdown",
   "metadata": {
    "slideshow": {
     "slide_type": "subslide"
    }
   },
   "source": [
    "### Arbitrary contingent claims\n",
    "* Definition: \n",
    "A __contingent claim (financial derivative)__ is any random variable $X$ of the form $X=\\Phi(Z)$, where $Z$ is the random variable driving the stock price process. \n",
    "\n",
    "* $\\Phi$ is called the __contract function__.\n"
   ]
  },
  {
   "cell_type": "code",
   "execution_count": null,
   "metadata": {},
   "outputs": [],
   "source": [
    "graphTree([r'$S_0 = 100$', r'$S_1 = s \\cdot u$', r'$S_1 = s \\cdot d$'],[r'$p_u$', r'$p_d$'],\\\n",
    "          ['', 'Option payoff: ' + r'$\\Phi(u)$', 'Option payoff: ' + r'$\\Phi(d)$'])"
   ]
  },
  {
   "cell_type": "markdown",
   "metadata": {
    "slideshow": {
     "slide_type": "subslide"
    }
   },
   "source": [
    "### Arbitrary contingent claims\n",
    "* __Proposition__: Suppose that a claim $X$ can be replicated with a portfolio $(x,y)$. Then any price of $X$ at $t=0$ other than $V_0^{(x,y)}$ leads to an arbitrage opportunity.\n",
    "* __Proposition__: Assume that the binomial model is free of arbitrage. Then the market is __complete__, i.e., all contingent claims can be replicated. \n"
   ]
  },
  {
   "cell_type": "markdown",
   "metadata": {
    "slideshow": {
     "slide_type": "subslide"
    }
   },
   "source": [
    "### Arbitrary contingent claims\n",
    "* Proof: \n",
    "    * Fixing an arbitrary claim $X$ with contract function $\\Phi$, we require a solution $(x,y)$ to the system of linear equations,\n",
    "    \\begin{align*}\n",
    "    (1+r) x + S_0\\,uy &= \\Phi(u),\\\\\n",
    "    (1+r) x + S_0\\,dy &= \\Phi(d).\n",
    "    \\end{align*}\n",
    "    \n",
    "    &nbsp;\n",
    "    * Since $u>d$, the linear system has a unique solution, given by  \n",
    "    &nbsp;\n",
    "    \n",
    "    \\begin{align}\n",
    "        x&= \\frac{u\\Phi(d)-d\\Phi(u)} {(1+r) (u-d)}\\label{eq:2}&\n",
    "    y&= \\frac{1}{S_0} \\cdot \\frac{\\Phi(u)-\\Phi(d)}{u-d}.\n",
    "      \\end{align}\n",
    "   "
   ]
  },
  {
   "cell_type": "markdown",
   "metadata": {
    "slideshow": {
     "slide_type": "subslide"
    }
   },
   "source": [
    "### Risk-neutral pricing\n",
    "* Recall that the market is free of arbitrage if and only if $d<1+r<u$. \n",
    "* This is equivalent to saying that: there exist $q_u, q_d> 0$, with $q_u+q_d=1$, such that\n",
    "\n",
    "\n",
    "\\begin{equation*}\n",
    "      1+r = q_u\\cdot u + q_d \\cdot d. \n",
    "\\end{equation*}\n",
    "    \n",
    "* $q_u,q_d$ can be interpreted as a __probability measure__ $\\mathbb Q$ with\n",
    "\n",
    "    \\begin{equation*}\n",
    "      \\mathbb Q(Z=u)=q_u, \\qquad \\mathbb Q(Z=d)=q_d.\n",
    "    \\end{equation*}\n",
    "\n"
   ]
  },
  {
   "cell_type": "markdown",
   "metadata": {
    "slideshow": {
     "slide_type": "subslide"
    }
   },
   "source": [
    "### Risk-neutral pricing\n",
    "* By definition, we find \n",
    "&nbsp;\n",
    "\n",
    " \\begin{equation*}\n",
    " \\frac{1}{1+r} \\mathbb E^\\mathbb Q[S_1] = \\frac{1}{1+r}\n",
    "      \\left[q_u S_0\\, u + q_d S_0\\, d\\right] = \\frac{1}{1+r}\\cdot S_0 (1+r) =\n",
    "      S_0.\n",
    "    \\end{equation*}\n",
    "\n",
    "* The probabilities $q_u, q_d$ are called __risk-neutral probabilities__ if the following condition holds:\n",
    "\n",
    "    \\begin{equation*}\n",
    "      S_0=\\frac{1}{1+r} \\mathbb E^\\mathbb Q[S_1]. \n",
    "    \\end{equation*}\n"
   ]
  },
  {
   "cell_type": "markdown",
   "metadata": {
    "slideshow": {
     "slide_type": "subslide"
    }
   },
   "source": [
    "### Example\n",
    "* The risk-neutral probabilities in the example are given by\n",
    "&nbsp;\n",
    "\n",
    " \\begin{align*}\n",
    "        q_u &= \\frac{1.05-0.8}{1.2-0.8} = \\frac{0.25}{0.4} =\n",
    "              \\frac{5}{8} = 0.625\\\\[5pt]\n",
    "        q_d &= 1-q_u = 0.375\n",
    "      \\end{align*}\n",
    "\n",
    "\n",
    "* The no-arbitrage price is calculated as\n",
    "    \\begin{equation*}\n",
    "        \\text{Price}(\\max(S_1-105,0)) := \\frac{1}{1.05} \\left(0.625\\cdot 15 +   0.375\\cdot 0\\right) = 8.93. \n",
    "      \\end{equation*}\n"
   ]
  },
  {
   "cell_type": "markdown",
   "metadata": {
    "slideshow": {
     "slide_type": "subslide"
    }
   },
   "source": [
    "### Risk-neutral pricing\n",
    "* We re-state the \"no-arbitrage\" proposition in a way that is not specific to the one-period model. \n",
    "* __Proposition (No-arbitrage, First Fundamental Theorem)__: The market model is arbitrage free if and only if there exists a risk-neutral measure $\\mathbb Q$."
   ]
  },
  {
   "cell_type": "markdown",
   "metadata": {
    "slideshow": {
     "slide_type": "subslide"
    }
   },
   "source": [
    "### Risk-neutral pricing\n",
    "* __Proposition__: For the one-period model, the risk-neutral probabilities are given by \n",
    "\n",
    "    \\begin{align}\n",
    "      q_u &= \\frac{(1+r)-d}{u-d}\\label{eq:5}\\\\[5pt]\n",
    "      q_d&= 1-q_u = \\frac{u-(1+r)}{u-d}. \\label{eq:4}\n",
    "    \\end{align}\n",
    "\n",
    "\n",
    "* __Proposition__: If the binomial model is free of arbitrage, then the arbitrage-free price of a contingent claim $X$ is given by\n",
    "\n",
    "    \\begin{equation*}\n",
    "      \\text{Price}(X) = \\frac{1}{1+r} \\mathbb E^\\mathbb Q [X].  \n",
    "    \\end{equation*}\n"
   ]
  },
  {
   "cell_type": "markdown",
   "metadata": {
    "slideshow": {
     "slide_type": "subslide"
    }
   },
   "source": [
    "### Risk-neutral probabilities\n",
    "* Objective probabilities determine which events are possible and which are impossible.\n",
    "* We compute the arbitrage free price of a financial derivative __as if__ we were living in a risk-neutral world.\n",
    "* This does __not__ mean that we believe that we live in a risk-neutral world. \n",
    "* Rather, investors __do not receive a risk premium__ for holding contingent claims that can be entirely risk-managed by replication. \n",
    "* The valuation formula holds for all investors, regardless of their attitude towards risk."
   ]
  },
  {
   "cell_type": "markdown",
   "metadata": {
    "slideshow": {
     "slide_type": "slide"
    }
   },
   "source": [
    "## The multi-period model\n",
    "\n",
    "* Discrete time, with time running from $t=0$ to $t=T$. \n",
    "* Market consists of two assets, a __bond__ and a __stock__\n",
    "* The __bond price process__ denoted by $B_t$, is given by \n",
    "\n",
    "\\begin{align*}\n",
    "          B_{t+1}&= (1+r)\\, B_t\\\\\n",
    "          B_0&= 1,\n",
    "\\end{align*}\n",
    "&nbsp;&nbsp;&nbsp;&nbsp;&nbsp;&nbsp;&nbsp;&nbsp;&nbsp;&nbsp;\n",
    "with $r$ the interest rate (a simple period rate)."
   ]
  },
  {
   "cell_type": "markdown",
   "metadata": {
    "slideshow": {
     "slide_type": "subslide"
    }
   },
   "source": [
    "### The multi-period model\n",
    "* The dynamics of the __stock process__, \n",
    "    denoted by $S_t$, are \n",
    "\n",
    "\\begin{align*}\n",
    "          S_{t+1} &= S_t\\cdot Z_t,\\\\\n",
    "          S_0 &=s,\n",
    "\\end{align*}\n",
    "\n",
    "&nbsp;&nbsp;&nbsp;&nbsp;&nbsp;&nbsp;&nbsp;&nbsp;\n",
    "where $Z_0, \\ldots, Z_{T-1}$ are i.i.d. random variables with $$\\mathbb P(Z_t=u)=p_u, \\qquad \\mathbb P(Z_t=d)=p_d.$$"
   ]
  },
  {
   "cell_type": "markdown",
   "metadata": {
    "slideshow": {
     "slide_type": "subslide"
    }
   },
   "source": [
    "![Binomial tree](pics/binomial5.png)\n",
    "\n",
    "\n"
   ]
  },
  {
   "cell_type": "markdown",
   "metadata": {
    "slideshow": {
     "slide_type": "subslide"
    }
   },
   "source": [
    "### Portfolios\n",
    "* __Definition__: A __portfolio strategy__ is a stochastic process\n",
    "\n",
    " \\begin{equation*}\n",
    "\\{(x_t,y_t), \\quad t=1,\\ldots, T\\},\n",
    "\\end{equation*}\n",
    "\n",
    "such that $h_t$ is a function of $S_0, S_1, \\ldots, S_{t-1}$.\n",
    "* The __value process__ corresponding to portfolio $(x,y)$ is defined by\n",
    "\n",
    "\\begin{equation*}\n",
    "V_t^{(x,y)} = x_t(1+r) + y_t S_t. \n",
    "\\end{equation*}\n",
    "\n",
    "* $x_t$ is the amount of money invested at time $t-1$ and kept until time $t$.\n",
    "* $y_t$ is the number of shares bought at time $t-1$ and kept until time $t$.\n",
    "* At any point in time, the portfolio strategy can depend on all information available at that time...\n",
    "* ... but of course, one cannot look into the  future.\n"
   ]
  },
  {
   "cell_type": "markdown",
   "metadata": {
    "slideshow": {
     "slide_type": "subslide"
    }
   },
   "source": [
    "### Portfolios\n",
    "* __Definition__: A portfolio strategy $(x,y)$ is said to be __self-financing__ if the following condition holds for all $t=1, \\ldots, T-1$,\n",
    "\n",
    "    \\begin{equation*}\n",
    "      x_t(1+R) + y_t S_t = x_{t+1} + y_{t+1} S_t.\n",
    "    \\end{equation*}\n",
    "\n",
    "\n",
    "* This expresses that, at each time $t$, the market value of the portfolio created at $t-1$ equals the market value of the portfolio created at $t$.\n",
    "* In other words: no funds are injected or withdrawn from the portfolio strategy at times $t=1,\\ldots, T-1$.\n",
    "* The portfolio is merely __rebalanced__ at every time point, that is, the holdings in the risky asset and risk-free asset are changed subject to keeping the portfolio value constant. \n"
   ]
  },
  {
   "cell_type": "markdown",
   "metadata": {
    "slideshow": {
     "slide_type": "subslide"
    }
   },
   "source": [
    "### Multi-period model\n",
    "* Everything else - arbitrage, condition for absence of arbitrage, risk-neutral measure - stays the same. \n",
    "* One-period risk-neutral pricing formula is a conditional expectation:\n",
    "\n",
    "    \\begin{equation*}\n",
    "      S_t=\\frac{1}{1+r} \\mathbb E^\\mathbb Q[S_{t+1}|S_t].\n",
    "    \\end{equation*}\n",
    "\n",
    "\n",
    "* __Proposition__: The multiperiod binomial model is complete, that is, every claim can be replicated by a self-financing portfolio.\n"
   ]
  },
  {
   "cell_type": "markdown",
   "metadata": {
    "slideshow": {
     "slide_type": "subslide"
    }
   },
   "source": [
    "### Multi-period model\n",
    "* Break down multi-period model into one-period models: \n",
    "\n",
    "![Binomial tree](pics/binomial6.png)\n",
    "\n",
    "\n",
    "* Price and replicate the claim backwards, step-by-step.\n",
    "\n"
   ]
  },
  {
   "cell_type": "markdown",
   "metadata": {
    "slideshow": {
     "slide_type": "subslide"
    }
   },
   "source": [
    "### Example\n",
    "* Spot price $S_0=140$\n",
    "* up and down move factors: $u=1.5$, $d=0.78571$\n",
    "* interest rate $r=0.1$\n",
    "* strike $K=160$\n",
    "* maturity $T=2$\n",
    "\n",
    "* First determine:\n",
    "     * Risk-neutral probabilities: $q_u = 0.44$, $q_d=0.56$\n",
    "     * Contract function: $$\\Phi(S_2)=\\max(S_2-K,0)$$"
   ]
  },
  {
   "cell_type": "markdown",
   "metadata": {
    "slideshow": {
     "slide_type": "subslide"
    }
   },
   "source": [
    "### Multi-period model\n",
    "\n",
    "![Binomial tree](pics/binomial7.png)\n",
    "\n",
    "\n"
   ]
  },
  {
   "cell_type": "markdown",
   "metadata": {
    "slideshow": {
     "slide_type": "subslide"
    }
   },
   "source": [
    "### Multi-period model\n",
    "\n",
    "![Binomial tree](pics/binomial8.png)\n",
    "\n",
    "\n"
   ]
  },
  {
   "cell_type": "markdown",
   "metadata": {
    "slideshow": {
     "slide_type": "subslide"
    }
   },
   "source": [
    "### Multi-period model\n",
    "\n",
    "![Binomial tree](pics/binomial9.png)\n",
    "\n"
   ]
  },
  {
   "cell_type": "markdown",
   "metadata": {
    "slideshow": {
     "slide_type": "subslide"
    }
   },
   "source": [
    "### Multi-period model\n",
    "\n",
    "* __Risk-neutral pricing__:\n",
    "\\begin{align*}\n",
    "\\text{Price}(X)&=\\frac{1}{(1+r)^2} \\mathbb E^\\mathbb Q[\\Phi(S_T)]\\\\[5pt]\n",
    "&=\\frac{1}{(1+r)^2} \\mathbb E^\\mathbb Q[q_u^2 \\Phi(S_0\\cdot u^2) + 2 q_u q_d \\Phi(S_0\\cdot u d) + q_d^2 \\Phi(S_0\\cdot d^2)] \\\\[5pt]\n",
    "&= 26.84.\n",
    " \\end{align*}\n",
    "\n",
    "\n"
   ]
  },
  {
   "cell_type": "markdown",
   "metadata": {
    "slideshow": {
     "slide_type": "subslide"
    }
   },
   "source": [
    "### Multi-period model\n",
    "* The time-$T$ stock price outcomes follow a __binomial distribution__.\n",
    "* The price of an option $X$ with contract function $\\Phi$ is thus:\n",
    "\\begin{equation*}\n",
    "\\text{Price}(X) = \\frac{1}{(1+r)^T}\\cdot \\sum_{k=0}^T \\binom{T}{k}\n",
    "    q_u^k\\, q_d^{T-k} \\Phi(s u^k\\, d^{T-k}). \n",
    "  \\end{equation*}\n",
    "  \n",
    "* Note: This formula applies only to European non-path dependent claims."
   ]
  },
  {
   "cell_type": "markdown",
   "metadata": {
    "slideshow": {
     "slide_type": "subslide"
    }
   },
   "source": [
    "### Multi-period model\n",
    "* Let's implement the binomial tree in Python and calculate the price from the example."
   ]
  },
  {
   "cell_type": "code",
   "execution_count": null,
   "metadata": {},
   "outputs": [],
   "source": [
    "import math\n",
    "\n",
    "S0=140.\n",
    "T=2\n",
    "r=0.1\n",
    "u=1.5\n",
    "d=0.78571"
   ]
  },
  {
   "cell_type": "code",
   "execution_count": null,
   "metadata": {},
   "outputs": [],
   "source": [
    "def calculate_tree():\n",
    "    S=np.zeros((T+1, T+1))\n",
    "    S[0,0]=S0\n",
    "    z=1\n",
    "    for t in range(1, T+1):\n",
    "        for k in range(z): # number of up moves\n",
    "            S[k+1,t] = S[k, t-1] * u\n",
    "            S[k,t] = S[k,t-1] * d\n",
    "        z = z + 1\n",
    "    return np.flipud(S) # flip the result so that up moves are actually \"up\""
   ]
  },
  {
   "cell_type": "markdown",
   "metadata": {
    "slideshow": {
     "slide_type": "subslide"
    }
   },
   "source": [
    "### Multi-period model"
   ]
  },
  {
   "cell_type": "code",
   "execution_count": null,
   "metadata": {},
   "outputs": [],
   "source": [
    "np.set_printoptions(formatter = {'float':lambda  x: ' %6.2f ' % x})"
   ]
  },
  {
   "cell_type": "code",
   "execution_count": null,
   "metadata": {},
   "outputs": [],
   "source": [
    "calculate_tree()"
   ]
  },
  {
   "cell_type": "markdown",
   "metadata": {
    "slideshow": {
     "slide_type": "slide"
    }
   },
   "source": [
    "## The Cox-Ross-Rubinstein model\n",
    "* The __Cox-Ross-Rubinstein model (CRR model)__, is a special case of the multiperiod binomial tree model.\n",
    "* Fix a time interval $[0,T]$ and set $\\Delta t=T/N$.\n",
    "* Trading takes place at times\n",
    "\n",
    "    \\begin{equation*}\n",
    "      0,\\Delta t, 2\\Delta t, \\ldots,\n",
    "      (N-1)\\Delta t, N\\Delta t=T. \n",
    "    \\end{equation*}\n",
    "\n",
    "\n",
    "* The bond price accrues continuously at rate $r$, so that $B_t=B_0\\,\\mathrm e^{r t}$ and $B_{n\\Delta t}=B_{(n-1) \\Delta t} \\, \\mathrm e^{r\\Delta t}$, where $n=1,\\ldots, N$.\n",
    "* The risk of the stock price is expressed by the __volatility__ $\\sigma$, the standard deviation of the stock price's log-return.\n",
    "* The volatility for the time period $\\Delta t$ is $\\sigma\\sqrt{\\Delta t}$, yielding\n",
    "\n",
    "    \\begin{equation*}\n",
    "      u= \\mathrm e^{\\sigma\\sqrt{\\Delta t}},\\qquad\n",
    "      d= 1/u = \\mathrm e^{-\\sigma \\sqrt{\\Delta t}}. \n",
    "    \\end{equation*}\n"
   ]
  },
  {
   "cell_type": "markdown",
   "metadata": {
    "slideshow": {
     "slide_type": "slide"
    }
   },
   "source": [
    "## Towards a continuous-time model: Brownian motion\n",
    "* Taking $\\Delta t\\rightarrow 0$ gives the __Black-Scholes model__ in the continuous-time limit.\n",
    "* Note that $T$ stays fixed, but the discrete-time grid is made finer and finer. \n",
    "* The binomial distribution associated with time-$T$ stock prices converges to a normal distribution (this is a consequence of the so-called Central Limit Theorem).  \n",
    "* The up-down moves of the stock price path through the binomial tree converge to a continuous-time stochastic process called a __Brownian motion__. \n",
    "* This is a process with independent normally distributed increments. "
   ]
  },
  {
   "cell_type": "markdown",
   "metadata": {
    "slideshow": {
     "slide_type": "subslide"
    }
   },
   "source": [
    "### Brownian motion\n",
    "* A stochastic process $W=(W_t)_{t\\geq 0}$ is a **Brownian motion** if\n",
    "    * $W_0=0$ and $W$ has continuous paths,\n",
    "    * $W$ has independent increments, that is, for $r<s\\leq t<u$, the random variables $W_u-W_t$ and $W_s-W_r$ are independent,\n",
    "    * For $s<t$, $W_t-W_s\\sim\\mathrm N(0,t-s)$, that is, the random variable $W_t-W_s$ is normally distributed with mean $0$ and variance $t-s$.\n",
    "    \n"
   ]
  },
  {
   "cell_type": "markdown",
   "metadata": {
    "slideshow": {
     "slide_type": "subslide"
    }
   },
   "source": [
    "### Normal distribution"
   ]
  },
  {
   "cell_type": "code",
   "execution_count": null,
   "metadata": {},
   "outputs": [],
   "source": [
    "import scipy.stats as scs\n",
    "x=np.linspace(-5,5,100)\n",
    "plt.plot(x,scs.norm.pdf(x));\n",
    "plt.xlabel('x')\n",
    "plt.ylabel('normal density');"
   ]
  },
  {
   "cell_type": "markdown",
   "metadata": {
    "slideshow": {
     "slide_type": "subslide"
    }
   },
   "source": [
    "### Brownian motion\n",
    "* Some example paths: "
   ]
  },
  {
   "cell_type": "code",
   "execution_count": null,
   "metadata": {},
   "outputs": [],
   "source": [
    "import numpy.random as npr  \n",
    "\n",
    "npr.seed(1235)\n",
    "n=1000\n",
    "z = npr.normal(size=(n,5))\n",
    "w = np.cumsum(z,axis=0)\n",
    "plt.plot(w);\n",
    "plt.xlabel('time')\n",
    "plt.title('Brownian motion paths');"
   ]
  },
  {
   "cell_type": "markdown",
   "metadata": {
    "slideshow": {
     "slide_type": "subslide"
    }
   },
   "source": [
    "### Bond price dynamics\n",
    "* Continuous compounding at interest rate $r>0$ of a __bond__ or __money market account__ is governed by the __differential equation__:\n",
    "\n",
    "\\begin{equation*}\n",
    "        d B_t = B_t r \\, d t,\\quad t\\geq 0.\n",
    "\\end{equation*}\n",
    "\n",
    "\n",
    "* The solution to the differential equation is given by\n",
    "\n",
    "\\begin{equation*}\n",
    "        B_t = B_0\\exp( r t), \\quad t\\geq 0.\n",
    "\\end{equation*}\n"
   ]
  },
  {
   "cell_type": "markdown",
   "metadata": {
    "slideshow": {
     "slide_type": "subslide"
    }
   },
   "source": [
    "### Stock price dynamics: Geometric Brownian motion\n",
    "* Similarly, the __Black-Scholes model__ specifies the dynamics of a stock price as \n",
    "\n",
    "\\begin{equation*}\n",
    "         d S_t = S_t\\, \\mu\\, d t + S_t\\, \\sigma\\, d W_t.\n",
    "\\end{equation*}\n",
    "\n",
    "* The solution of the differential equation turns out to be\n",
    "\n",
    "\\begin{equation*}\n",
    "     S_t = S_0 \\, \\exp\\left(\\left(\\mu-\\frac{1}{2}\\sigma^2\\right)t + \\sigma  W_t\\right). \n",
    "\\end{equation*}\n"
   ]
  },
  {
   "cell_type": "markdown",
   "metadata": {
    "slideshow": {
     "slide_type": "subslide"
    }
   },
   "source": [
    "### Geometric Brownian motion\n"
   ]
  },
  {
   "cell_type": "code",
   "execution_count": null,
   "metadata": {},
   "outputs": [],
   "source": [
    "import numpy.random as npr  \n",
    "\n",
    "npr.seed(1235)\n",
    "n=250\n",
    "m=500;\n",
    "dt=1/n;\n",
    "z2 = npr.normal(size=(n,m))\n",
    "z = np.zeros((n+1,m))\n",
    "z[1:]=z2\n",
    "w = np.cumsum(z,axis=0)\n",
    "s = np.exp(0.2 * np.sqrt(dt) * w)\n",
    "det_part = np.exp((0.05-0.5*0.2**2)* dt *np.arange(0,n+1));\n",
    "for i in range(0,m):\n",
    "    s[:,i] = s[:,i] * det_part"
   ]
  },
  {
   "cell_type": "markdown",
   "metadata": {
    "slideshow": {
     "slide_type": "subslide"
    }
   },
   "source": [
    "### Geometric Brownian motion\n"
   ]
  },
  {
   "cell_type": "code",
   "execution_count": null,
   "metadata": {},
   "outputs": [],
   "source": [
    "plt.figure(figsize=(12, 5))\n",
    "plt.subplot(121)\n",
    "plt.plot(np.arange(0,n+1)*dt,s);\n",
    "plt.xlabel('time')\n",
    "plt.title('Example stock price paths');\n",
    "plt.subplot(122)\n",
    "plt.hist(s[-1]);\n",
    "plt.xlabel('$S_T$')\n",
    "plt.title('frequencies of simulated stock prices');"
   ]
  },
  {
   "cell_type": "markdown",
   "metadata": {
    "slideshow": {
     "slide_type": "slide"
    }
   },
   "source": [
    "\n",
    "## The Black-Scholes(-Merton) model\n",
    "* Assume a frictionless financial market in which a bond and a stock are traded. \n",
    "    * (Assets are liquidly traded, there are no short-selling constraints, there are no transaction costs and there are no bid-ask-spreads.)\n",
    "* In the __Black-Scholes(-Merton) model__ the dynamics of the bond price and the stock price are given by \n",
    "\\begin{align*}\n",
    " d B_t &= r B_t\\, d t \\\\ \n",
    " d S_t &= \\mu S_t\\, d t + \\sigma S_t\\, d W_t,\n",
    " \\end{align*}\n",
    "where\n",
    "    * $r,\\mu, \\sigma$ are deterministic constants,\n",
    "    * $W=(W_t)_{t\\geq 0}$ is a Brownian motion,\n",
    "    * $r$ is the __risk free rate__\n",
    "    * $\\mu$ is the __drift__,\n",
    "    * $\\sigma$ is the __volatility__."
   ]
  },
  {
   "cell_type": "markdown",
   "metadata": {
    "slideshow": {
     "slide_type": "subslide"
    }
   },
   "source": [
    "### Risk-neutral measure\n",
    "* Because the Black-Scholes model is the result of taking the CRR model to the continuous-time limit, all properties such as the existence of replicating strategies, market completeness, existence of a risk-neutral probability measure carry over. \n",
    "* The stock price process, under the real-world probability measure $\\mathbb P$, evolves as\n",
    "\n",
    " \\begin{equation*}\n",
    "d S_t =\\mu S_t\\, d t + \\sigma S_t\\, d W_t, \\quad t\\geq 0. \n",
    "\\end{equation*} \n",
    "* Under the __risk-neutral probability measure__ $\\mathbb Q$, the stock price process is \n",
    "\\begin{equation*}\n",
    "d S_t = r S_t \\, d t + \\sigma S_t\\, d \\overline W_t,\\quad t\\geq 0,\n",
    "\\end{equation*}\n",
    "where $(\\overline W_t)_{t\\geq 0}$ is a Brownian motion under $\\mathbb Q$. \n",
    "* Likewise, the bond price process evolves as \n",
    " \\begin{equation*}\n",
    "d B_t = r B_t  \\, d t,\\quad t\\geq 0.\n",
    "\\end{equation*} \n"
   ]
  },
  {
   "cell_type": "markdown",
   "metadata": {
    "slideshow": {
     "slide_type": "subslide"
    }
   },
   "source": [
    "### Risk-neutral pricing\n",
    "\n",
    "* __Proposition__: The __no arbitrage price__ of a contingent claim $Y=f(S_T)$ is given by $\\mathrm e^{-rT} \\mathbb E Y$, where expectation is taken under the risk-neutral measure. \n",
    "* Option pricing boils down to taking expectations under the risk-neutral measure!\n"
   ]
  },
  {
   "cell_type": "markdown",
   "metadata": {
    "slideshow": {
     "slide_type": "slide"
    }
   },
   "source": [
    "## The Black-Scholes formula\n",
    "\n",
    "* The famous Black-Scholes formula can be proved by calculating the expected value of a call option payoff. \n",
    "\n",
    "* __Theorem (Black-Scholes formula)__: \n",
    "    In the Black-Scholes model, the price of a European call option with parameters $K$, $T$, $r$, $\\sigma$ and $S_0$ is given by\n",
    "\n",
    "\\begin{equation*}\n",
    "S_0\\, \\mathrm N(d_{+}) - \\mathrm e^{-r T} K\\,\\mathrm N(d_{-}),\n",
    "\\end{equation*} \n",
    "&nbsp;&nbsp; &nbsp;&nbsp; &nbsp;&nbsp;&nbsp;&nbsp;&nbsp;&nbsp; \n",
    "with\n",
    "\\begin{equation*}\n",
    "d_{\\pm} = \\frac{\\ln(S_0/K) +(r\\pm \\frac{1}{2}\\sigma^2)T}{\\sigma\\sqrt{T}},\n",
    "\\end{equation*} \n",
    "&nbsp;&nbsp; &nbsp;&nbsp; &nbsp;&nbsp; &nbsp;&nbsp;&nbsp;&nbsp;\n",
    "where $\\mathrm N(x)$ is the cumulative distribution function of the standard normal distribution.\n"
   ]
  },
  {
   "cell_type": "markdown",
   "metadata": {
    "slideshow": {
     "slide_type": "slide"
    }
   },
   "source": [
    "### Hedging in the Black-Scholes model\n",
    "* At any point in time $t \\leq T$, the **replicating portfolio** of a European call option maturing at $T$ with time-$t$ price $F(t,S_t)$ consists of\n",
    "\n",
    "     * $\\displaystyle\\frac{\\partial F(t,S_t)}{\\partial S}={\\mathrm N}(d_{t,+})$ units of stock and\n",
    "     \n",
    "     * $F(t,S_t)-\\displaystyle\\frac{\\partial F(t,S_t)} {\\partial S}\\, S_t=-{\\mathrm e}^{-r(T-t)} K {\\mathrm N}(d_{t,-})$ units of the bond.  \n",
    "     "
   ]
  },
  {
   "cell_type": "markdown",
   "metadata": {
    "slideshow": {
     "slide_type": "slide"
    }
   },
   "source": [
    "### Hedging in the Black-Scholes model\n",
    "\n",
    "* The partial derivative is the **sensitivity** of the call option with respect to the underlying asset. \n",
    "* Small movements $\\Delta S_t$ in either direction in the asset price change the option price by approximately $\\displaystyle \\frac{\\partial F(t,S_t)}{\\partial S}\\, \\Delta S_t$:<br>\n",
    "\n",
    "\n",
    "![Hedging](pics/hedge.png)\n"
   ]
  },
  {
   "cell_type": "markdown",
   "metadata": {
    "slideshow": {
     "slide_type": "subslide"
    }
   },
   "source": [
    "### Greeks\n",
    "* The **sensitivities** of an option position are called **\"Greeks\"**.\n",
    "* Greeks: The sensitivities of a contingent claim's price process $F(t,S_t)$\n",
    "    with respect to the input parameters are:\n",
    "\n",
    "\\begin{align*}\n",
    "      \\text{Delta:}\\qquad \\Delta_t &= \\frac{\\partial F(t,S_t)}{\\partial S}\\\\[5pt]\n",
    "      \\text{Gamma:} \\qquad \\Gamma_t &= \\frac{\\partial^2\n",
    "                                      F(t,S_t)}{\\partial S^2}\n",
    "                                     & \\text{(sensitivity of Delta)}\\\\[5pt]\n",
    "      \\text{Theta:} \\qquad \\Theta_t &= \\frac{\\partial F(t,S_t)}{\\partial t}\\\\[5pt]\n",
    "      \\text{Vega:}\\qquad \\nu_t &= \\frac{\\partial F(t,S_t)}{\\partial\n",
    "                                 \\sigma} & \\text{(\"model risk\")}\\\\[5pt]\n",
    "      \\text{Rho:} \\qquad\\rho_t &= \\frac{\\partial F(t,S_t)}{\\partial r}\n",
    "\\end{align*}"
   ]
  },
  {
   "cell_type": "markdown",
   "metadata": {
    "slideshow": {
     "slide_type": "subslide"
    }
   },
   "source": [
    "### Greeks\n",
    "* In the case of a call option, the Greeks are given by:\n",
    "\n",
    "\n",
    "\\begin{align*}\n",
    "      \\text{Delta:} \\qquad \\Delta_t &= {\\mathrm N}(d_{t,+})\\\\[10pt]\n",
    "      \\text{Gamma:} \\qquad \\Gamma_t &= \\frac{{\\mathrm N}^\\prime(d_{t,+})}{S_0\n",
    "        \\sigma\n",
    "        \\sqrt{T}}\\\\[10pt]\n",
    "      \\text{Theta:} \\qquad \\Theta_t &= - \\frac{S_0\n",
    "        {\\mathrm N}^\\prime(d_{t,+})\\sigma}{2 \\sqrt{T}} - r K e^{-rT} {\\mathrm N}(d_{t,-})\\\\[10pt]\n",
    "      \\text{Vega:} \\qquad \\nu_t &= S_0 \\sqrt{T} {\\mathrm N}^\\prime(d_{t,+})\\\\[10pt]\n",
    "      \\text{Rho: } \\qquad \\rho_t &= K e^{-rT} {\\mathrm N}(d_{t,-}) T \n",
    "\\end{align*}\n"
   ]
  },
  {
   "cell_type": "markdown",
   "metadata": {
    "slideshow": {
     "slide_type": "subslide"
    }
   },
   "source": [
    "### Greeks\n",
    "* Call option prices and greeks: \n",
    "\n",
    "![Greeks](pics/greeks.png)\n",
    "\n"
   ]
  }
 ],
 "metadata": {
  "celltoolbar": "Slideshow",
  "hide_code_all_hidden": true,
  "kernelspec": {
   "display_name": "Python 3 (ipykernel)",
   "language": "python",
   "name": "python3"
  },
  "language_info": {
   "codemirror_mode": {
    "name": "ipython",
    "version": 3
   },
   "file_extension": ".py",
   "mimetype": "text/x-python",
   "name": "python",
   "nbconvert_exporter": "python",
   "pygments_lexer": "ipython3",
   "version": "3.11.4"
  },
  "latex_metadata": {
   "author": "Prof.\\ Dr.\\ Natalie Packham\\\\ Berlin School of Economics and Law\\\\ Computational Finance and FinTech\\\\ Summer Term 2020",
   "bib": "notebook.bib",
   "title": "Option Pricing"
  },
  "livereveal": {
   "slideNumber": "c"
  },
  "toc": {
   "base_numbering": "6",
   "nav_menu": {},
   "number_sections": true,
   "sideBar": true,
   "skip_h1_title": false,
   "title_cell": "Table of Contents",
   "title_sidebar": "Contents",
   "toc_cell": false,
   "toc_position": {
    "height": "calc(100% - 180px)",
    "left": "10px",
    "top": "150px",
    "width": "288px"
   },
   "toc_section_display": true,
   "toc_window_display": false
  }
 },
 "nbformat": 4,
 "nbformat_minor": 4
}
