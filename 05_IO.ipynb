{
 "cells": [
  {
   "cell_type": "markdown",
   "metadata": {
    "hideCode": false,
    "hidePrompt": false,
    "slideshow": {
     "slide_type": "slide"
    }
   },
   "source": [
    "<b> \n",
    "    <font size=\"7\">\n",
    "        Computational Finance and FinTech <br><br>\n",
    "        M.Sc. International Finance\n",
    "    </font>\n",
    "</b>\n",
    "<br><br>\n",
    "<img src=\"pics/HWR.png\" width=400px>\n",
    "<br><br>\n",
    "<b>\n",
    "    <font size=\"5\"> \n",
    "        Prof. Dr. Natalie Packham <br>\n",
    "        Berlin School of Economics and Law <br>\n",
    "        Summer Term 2025\n",
    "    </font>\n",
    "</b>"
   ]
  },
  {
   "cell_type": "markdown",
   "metadata": {
    "slideshow": {
     "slide_type": "slide"
    }
   },
   "source": [
    "<h1>Table of Contents<span class=\"tocSkip\"></span></h1>\n",
    "<div class=\"toc\"><ul class=\"toc-item\"><li><span><a href=\"#Input/Output-(IO)\" data-toc-modified-id=\"Input/Output-(IO)-5\"><span class=\"toc-item-num\">5&nbsp;&nbsp;</span>Input/Output (IO)</a></span><ul class=\"toc-item\"><li><span><a href=\"#Basic-IO-with-Python\" data-toc-modified-id=\"Basic-IO-with-Python-5.1\"><span class=\"toc-item-num\">5.1&nbsp;&nbsp;</span>Basic IO with Python</a></span></li><li><span><a href=\"#CSV-files-with-pandas\" data-toc-modified-id=\"CSV-files-with-pandas-5.2\"><span class=\"toc-item-num\">5.2&nbsp;&nbsp;</span>CSV files with <code>pandas</code></a></span></li><li><span><a href=\"#Excel-files-with-pandas\" data-toc-modified-id=\"Excel-files-with-pandas-5.3\"><span class=\"toc-item-num\">5.3&nbsp;&nbsp;</span>Excel-files with <code>pandas</code></a></span></li><li><span><a href=\"#Saving-plots\" data-toc-modified-id=\"Saving-plots-5.4\"><span class=\"toc-item-num\">5.4&nbsp;&nbsp;</span>Saving plots</a></span></li><li><span><a href=\"#Direct-download-from-the-internet:-pandas-datareader\" data-toc-modified-id=\"Direct-download-from-the-internet:-pandas-datareader-5.5\"><span class=\"toc-item-num\">5.5&nbsp;&nbsp;</span>Direct download from the internet: <code>pandas-datareader</code></a></span></li></ul></li></ul></div>"
   ]
  },
  {
   "cell_type": "markdown",
   "metadata": {
    "slideshow": {
     "slide_type": "slide"
    }
   },
   "source": [
    "# Input/Output (IO)"
   ]
  },
  {
   "cell_type": "markdown",
   "metadata": {
    "slideshow": {
     "slide_type": "subslide"
    }
   },
   "source": [
    "### Input / Output\n",
    "* Further reading: __Py4Fi, Chapter 9__\n",
    "* This chapter is about loading data from and storing data to a persistent data source (e.g. hard drive).\n",
    "* Often financial data comes as `.csv`-files or `xlsx`- / `xls`-files. \n",
    "* Before working with the data it must be loaded into Python first. \n",
    "* Data can be loaded, written and stored using Python's built-in functions or `csv` or `pandas`.\n",
    "* The book contains additional information on reading from and writing to SQL databases."
   ]
  },
  {
   "cell_type": "markdown",
   "metadata": {
    "slideshow": {
     "slide_type": "subslide"
    }
   },
   "source": [
    "### Input / Output\n",
    "* The usual initialisation:"
   ]
  },
  {
   "cell_type": "code",
   "execution_count": null,
   "metadata": {},
   "outputs": [],
   "source": [
    "import numpy as np\n",
    "import pandas as pd\n",
    "import seaborn as sns\n",
    "import matplotlib.pyplot as plt"
   ]
  },
  {
   "cell_type": "markdown",
   "metadata": {
    "slideshow": {
     "slide_type": "slide"
    }
   },
   "source": [
    "## Basic IO with Python"
   ]
  },
  {
   "cell_type": "markdown",
   "metadata": {
    "slideshow": {
     "slide_type": "subslide"
    }
   },
   "source": [
    "### CSV files\n",
    "* A popular data format for working with spreadsheet-like data is __comma-separated values__, abbreviated as `.csv`. \n",
    "* In a csv file, data entries are stored in rows, with column separated by comma.\n",
    "* The top row may contain the column names."
   ]
  },
  {
   "cell_type": "markdown",
   "metadata": {
    "slideshow": {
     "slide_type": "subslide"
    }
   },
   "source": [
    "### CSV files\n",
    "* Create a dummy data set to demonstrate how to work with csv files: "
   ]
  },
  {
   "cell_type": "code",
   "execution_count": null,
   "metadata": {},
   "outputs": [],
   "source": [
    "rows = 10000 \n",
    "a = np.random.standard_normal((rows, 5)).round(4)\n",
    "a[:2]"
   ]
  },
  {
   "cell_type": "code",
   "execution_count": null,
   "metadata": {},
   "outputs": [],
   "source": [
    "t = pd.date_range(start='2019/1/1', periods=rows, freq='H') # creates a DateTimeIndex"
   ]
  },
  {
   "cell_type": "code",
   "execution_count": null,
   "metadata": {
    "scrolled": true
   },
   "outputs": [],
   "source": [
    "t[:4]"
   ]
  },
  {
   "cell_type": "markdown",
   "metadata": {},
   "source": [
    "__Note:__ 'H' is used for an hourly frequency, see [here](https://pandas.pydata.org/pandas-docs/stable/user_guide/timeseries.html#timeseries-offset-aliases) for more information about the `freq` settings. "
   ]
  },
  {
   "cell_type": "markdown",
   "metadata": {
    "slideshow": {
     "slide_type": "subslide"
    }
   },
   "source": [
    "### Creating a `.csv`-file in Python\n",
    "\n",
    "* `open()` with the `w` flag creates an empty file.  "
   ]
  },
  {
   "cell_type": "code",
   "execution_count": null,
   "metadata": {},
   "outputs": [],
   "source": [
    "import os\n",
    "path = os.getcwd() + '/' # the current working directory\n",
    "path "
   ]
  },
  {
   "cell_type": "code",
   "execution_count": null,
   "metadata": {},
   "outputs": [],
   "source": [
    "csv_file = open(path + 'RandomNumbers.csv', 'w') # opens a file for writing\n",
    "header = 'date,no1,no2,no3,no4,no5\\n'\n",
    "csv_file.write(header) # defines the header row and writes it as the first line"
   ]
  },
  {
   "cell_type": "markdown",
   "metadata": {
    "slideshow": {
     "slide_type": "subslide"
    }
   },
   "source": [
    "### Creating a `.csv`-file in Python\n",
    "\n",
    "* The data is written to the `.csv`-file using Python's built-in function `write()`: "
   ]
  },
  {
   "cell_type": "code",
   "execution_count": null,
   "metadata": {},
   "outputs": [],
   "source": [
    "for t_, (no1, no2, no3, no4, no5) in zip(t, a): # combines the data row-wise ...\n",
    "    s = '{},{},{},{},{},{}\\n'.format(t_, no1, no2, no3, no4, no5) # ... into string objects ...\n",
    "    csv_file.write(s) # ... and writes it to the file line-by-line"
   ]
  },
  {
   "cell_type": "markdown",
   "metadata": {},
   "source": [
    "* The changes are saved by calling `close()`."
   ]
  },
  {
   "cell_type": "code",
   "execution_count": null,
   "metadata": {},
   "outputs": [],
   "source": [
    "csv_file.close()"
   ]
  },
  {
   "cell_type": "code",
   "execution_count": null,
   "metadata": {},
   "outputs": [],
   "source": [
    "ls -l RandomN* # Here it is!"
   ]
  },
  {
   "cell_type": "markdown",
   "metadata": {
    "slideshow": {
     "slide_type": "subslide"
    }
   },
   "source": [
    "### Reading a `.csv`-file in Python"
   ]
  },
  {
   "cell_type": "code",
   "execution_count": null,
   "metadata": {},
   "outputs": [],
   "source": [
    "csv_file = open(path + 'RandomNumbers.csv', 'r') # open file for reading ('r')\n",
    "RandomNumbers = csv_file.readlines() # read the file contents in one step\n",
    "RandomNumbers[:5]"
   ]
  },
  {
   "cell_type": "code",
   "execution_count": null,
   "metadata": {},
   "outputs": [],
   "source": [
    "csv_file.close() # close the file"
   ]
  },
  {
   "cell_type": "markdown",
   "metadata": {
    "slideshow": {
     "slide_type": "subslide"
    }
   },
   "source": [
    "### csv reader\n",
    "* CSV files are so common that a dedicated package for reading (and writing) CSV files exists."
   ]
  },
  {
   "cell_type": "code",
   "execution_count": null,
   "metadata": {},
   "outputs": [],
   "source": [
    "import csv\n",
    "\n",
    "with open(path + 'RandomNumbers.csv', 'r') as f:\n",
    "    numbers = csv.reader(f) # returns every line as a list object\n",
    "    lines = [line for line in numbers] \n",
    "\n",
    "lines[:5]"
   ]
  },
  {
   "cell_type": "code",
   "execution_count": null,
   "metadata": {},
   "outputs": [],
   "source": [
    "type(lines)"
   ]
  },
  {
   "cell_type": "markdown",
   "metadata": {},
   "source": [
    "__Note:__ Aside of a `list`, the `csv` module can also return an `OrderedDict`, by using `DictReader()`. To learn more about the object `OrderedDict`, see [here](https://docs.python.org/3/library/collections.html#collections.OrderedDict)."
   ]
  },
  {
   "cell_type": "markdown",
   "metadata": {
    "slideshow": {
     "slide_type": "subslide"
    }
   },
   "source": [
    "### csv writer\n",
    "\n",
    "* CSV files are easily written to a file using the `csv` package."
   ]
  },
  {
   "cell_type": "markdown",
   "metadata": {},
   "source": [
    "* Write the `.csv`-file, using the functions `writer()` and `writerow()`."
   ]
  },
  {
   "cell_type": "code",
   "execution_count": null,
   "metadata": {},
   "outputs": [],
   "source": [
    "with open(path + 'RandomNumbers_2.csv', 'w') as f:\n",
    "    numbers = csv.writer(f, delimiter = ',')\n",
    "    for line in lines:\n",
    "        numbers.writerow(line)"
   ]
  },
  {
   "cell_type": "markdown",
   "metadata": {
    "slideshow": {
     "slide_type": "slide"
    }
   },
   "source": [
    "## CSV files with `pandas`\n",
    "\n",
    "* Some of the data formats that `pandas` can read/write:\n",
    "    * CSV (Comma-separated values)\n",
    "    * SQL (Structured query language)\n",
    "    * XLS / XLSX (Microsoft Excel files)\n",
    "    * JSON (Javascript object notation)\n",
    "    * HTML (Hyptertext markup language)"
   ]
  },
  {
   "cell_type": "markdown",
   "metadata": {
    "slideshow": {
     "slide_type": "subslide"
    }
   },
   "source": [
    "### CSV files with `pandas`\n",
    "* Reading a CSV file with pandas loads the data into a `DataFrame` object.\n",
    "* The first line of of the file is assumed to be the header."
   ]
  },
  {
   "cell_type": "code",
   "execution_count": null,
   "metadata": {},
   "outputs": [],
   "source": [
    "df = pd.read_csv('RandomNumbers.csv')"
   ]
  },
  {
   "cell_type": "code",
   "execution_count": null,
   "metadata": {},
   "outputs": [],
   "source": [
    "df.head()"
   ]
  },
  {
   "cell_type": "markdown",
   "metadata": {
    "slideshow": {
     "slide_type": "subslide"
    }
   },
   "source": [
    "### CSV files with `pandas`\n",
    "* `pd.read_csv()` adds an index by default. \n",
    "* To use a different index, add `set_index(columnName)`."
   ]
  },
  {
   "cell_type": "code",
   "execution_count": null,
   "metadata": {},
   "outputs": [],
   "source": [
    "df.set_index('date', inplace=True)\n",
    "df.head()"
   ]
  },
  {
   "cell_type": "markdown",
   "metadata": {
    "hidePrompt": false,
    "slideshow": {
     "slide_type": "subslide"
    }
   },
   "source": [
    "### Writing a `.csv`-file using `pandas`"
   ]
  },
  {
   "cell_type": "code",
   "execution_count": null,
   "metadata": {},
   "outputs": [],
   "source": [
    "df['no1'] = df['no1'] + 1000\n",
    "df.to_csv('RandomNumbers_3.csv') # couldn't be easier..."
   ]
  },
  {
   "cell_type": "markdown",
   "metadata": {
    "slideshow": {
     "slide_type": "slide"
    }
   },
   "source": [
    "## Excel-files with `pandas`\n",
    "* Microsoft Excel files can be read and created easily using `pandas`.\n",
    "* This is quite similar to reading / writing CSV files."
   ]
  },
  {
   "cell_type": "code",
   "execution_count": null,
   "metadata": {},
   "outputs": [],
   "source": [
    "df.to_excel('RandomNumbers.xlsx')"
   ]
  },
  {
   "cell_type": "code",
   "execution_count": null,
   "metadata": {},
   "outputs": [],
   "source": [
    "ls -l RandomNumbers*"
   ]
  },
  {
   "cell_type": "markdown",
   "metadata": {
    "slideshow": {
     "slide_type": "subslide"
    }
   },
   "source": [
    "### Reading a `.xlsx`-file using `pandas`"
   ]
  },
  {
   "cell_type": "code",
   "execution_count": null,
   "metadata": {},
   "outputs": [],
   "source": [
    "df = pd.read_excel('RandomNumbers.xlsx', index_col=0)"
   ]
  },
  {
   "cell_type": "code",
   "execution_count": null,
   "metadata": {},
   "outputs": [],
   "source": [
    "df.head()"
   ]
  },
  {
   "cell_type": "markdown",
   "metadata": {
    "slideshow": {
     "slide_type": "slide"
    }
   },
   "source": [
    "## Saving plots \n",
    "* This section demonstrates how to make plots persistent for further processing. \n",
    "* The file format is typically detected by the file name extensions."
   ]
  },
  {
   "cell_type": "code",
   "execution_count": null,
   "metadata": {},
   "outputs": [],
   "source": [
    "from matplotlib import pyplot as plt\n",
    "import matplotlib.dates as mdates"
   ]
  },
  {
   "cell_type": "code",
   "execution_count": null,
   "metadata": {
    "scrolled": true
   },
   "outputs": [],
   "source": [
    "fig, ax = plt.subplots()\n",
    "df['no1'][:100].plot()\n",
    "fig.autofmt_xdate()\n",
    "plt.savefig('LineChart.png')"
   ]
  },
  {
   "cell_type": "markdown",
   "metadata": {
    "slideshow": {
     "slide_type": "subslide"
    }
   },
   "source": [
    "### Generating a `pdf` plot"
   ]
  },
  {
   "cell_type": "code",
   "execution_count": null,
   "metadata": {},
   "outputs": [],
   "source": [
    "fig, ax = plt.subplots()\n",
    "df['no1'][:100].plot()\n",
    "fig.autofmt_xdate()\n",
    "plt.savefig('LineChart.pdf')"
   ]
  },
  {
   "cell_type": "markdown",
   "metadata": {
    "slideshow": {
     "slide_type": "subslide"
    }
   },
   "source": [
    "### Generating plots\n",
    "\n",
    "* There are various options for fine-tuning the appearance and quality of the plot. \n",
    "* Let's check that both plots have been written to the hard disk:"
   ]
  },
  {
   "cell_type": "code",
   "execution_count": null,
   "metadata": {},
   "outputs": [],
   "source": [
    "ls -l LineChart*"
   ]
  },
  {
   "cell_type": "markdown",
   "metadata": {
    "slideshow": {
     "slide_type": "subslide"
    }
   },
   "source": [
    "### Another pdf plot"
   ]
  },
  {
   "cell_type": "code",
   "execution_count": null,
   "metadata": {
    "scrolled": true,
    "slideshow": {
     "slide_type": "-"
    }
   },
   "outputs": [],
   "source": [
    "df['no1'][1:100].hist()\n",
    "plt.savefig('Hist.pdf')"
   ]
  },
  {
   "cell_type": "markdown",
   "metadata": {
    "slideshow": {
     "slide_type": "slide"
    }
   },
   "source": [
    "## Direct download from the internet: `pandas-datareader`"
   ]
  },
  {
   "cell_type": "markdown",
   "metadata": {},
   "source": [
    "* Many data providers offer direct downloads through an API (application programming interface), an programming interface that controls data access and the data format.\n",
    "* In other words, instead of manually downloading and subsequently importing a file, the data download can directly be incorporated into the program.\n",
    "* The package `pandas-datareader` provides a convenient unified way of extracting data from various Internet sources into a pandas `DataFrame`."
   ]
  },
  {
   "cell_type": "markdown",
   "metadata": {
    "slideshow": {
     "slide_type": "subslide"
    }
   },
   "source": [
    "### Installing `pandas-datareader`"
   ]
  },
  {
   "cell_type": "markdown",
   "metadata": {},
   "source": [
    "* Installation via anaconda: go to environments in the left menubar, enter `datareader` in `search packages` and install. \n",
    "* Alternatively, use a terminal programme (command line) and type:  \n",
    "    * `pip install pandas-datareader`  \n",
    "* This is a frequently changing package... I had to use:\n",
    "    * `pip install git+https://github.com/pydata/pandas-datareader.git`\n",
    "* For more information, see [here](https://pandas-datareader.readthedocs.io/en/stable/index.html) and [here](https://anaconda.org/anaconda/pandas-datareader)."
   ]
  },
  {
   "cell_type": "markdown",
   "metadata": {
    "slideshow": {
     "slide_type": "subslide"
    }
   },
   "source": [
    "### Using `pandas-datareader`"
   ]
  },
  {
   "cell_type": "markdown",
   "metadata": {},
   "source": [
    "Using TIINGO requires that you create a free account and obtain an API key."
   ]
  },
  {
   "cell_type": "code",
   "execution_count": null,
   "metadata": {
    "scrolled": true
   },
   "outputs": [],
   "source": [
    "import os\n",
    "import pandas_datareader as pdr"
   ]
  },
  {
   "cell_type": "code",
   "execution_count": null,
   "metadata": {},
   "outputs": [],
   "source": [
    "df = pdr.get_data_tiingo('AAPL', api_key=\"acd2306c4b7835abf5be144a30ee45e5b910823e\")\n",
    "df.head()"
   ]
  },
  {
   "cell_type": "code",
   "execution_count": null,
   "metadata": {},
   "outputs": [],
   "source": [
    "df.tail()"
   ]
  },
  {
   "cell_type": "code",
   "execution_count": null,
   "metadata": {},
   "outputs": [],
   "source": []
  }
 ],
 "metadata": {
  "celltoolbar": "Slideshow",
  "hide_code_all_hidden": true,
  "kernelspec": {
   "display_name": "Python 3 (ipykernel)",
   "language": "python",
   "name": "python3"
  },
  "language_info": {
   "codemirror_mode": {
    "name": "ipython",
    "version": 3
   },
   "file_extension": ".py",
   "mimetype": "text/x-python",
   "name": "python",
   "nbconvert_exporter": "python",
   "pygments_lexer": "ipython3",
   "version": "3.11.4"
  },
  "latex_metadata": {
   "author": "Prof.\\ Dr.\\ Natalie Packham\\\\ Berlin School of Economics and Law\\\\ Computational Finance and FinTech\\\\ Summer Term 2020",
   "bib": "notebook.bib",
   "title": "File I/O"
  },
  "livereveal": {
   "slideNumber": "c"
  },
  "toc": {
   "base_numbering": "5",
   "nav_menu": {},
   "number_sections": true,
   "sideBar": true,
   "skip_h1_title": false,
   "title_cell": "Table of Contents",
   "title_sidebar": "Contents",
   "toc_cell": false,
   "toc_position": {
    "height": "calc(100% - 180px)",
    "left": "10px",
    "top": "150px",
    "width": "288px"
   },
   "toc_section_display": true,
   "toc_window_display": false
  }
 },
 "nbformat": 4,
 "nbformat_minor": 4
}
